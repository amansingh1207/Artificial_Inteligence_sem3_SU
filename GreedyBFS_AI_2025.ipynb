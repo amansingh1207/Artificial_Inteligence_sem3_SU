{
  "cells": [
    {
      "cell_type": "markdown",
      "metadata": {
        "colab_type": "text",
        "id": "view-in-github"
      },
      "source": [
        "<a href=\"https://colab.research.google.com/github/aruntakhur/SitareUniversity/blob/main/GreedyBFS_AI_2025.ipynb\" target=\"_parent\"><img src=\"https://colab.research.google.com/assets/colab-badge.svg\" alt=\"Open In Colab\"/></a>"
      ]
    },
    {
      "cell_type": "code",
      "execution_count": 3,
      "metadata": {
        "id": "aY547roWSrJO"
      },
      "outputs": [],
      "source": [
        "maze5 = [\n",
        "    ['A', 0,  1,  0,  0,  0, 1, 0, 0, 1, 0, 0],\n",
        "    [0,   0,  1,  0,  1,  0, 1, 0, 1, 0, 0, 0],\n",
        "    [1,   0,  0,  0,  1,  0, 0, 0, 1, 1, 1, 0],\n",
        "    [0,   1,  1,  0,  0,  1, 1, 0, 0, 0, 1, 0],\n",
        "    [0,   0,  0,  0,  1,  0, 1, 1, 1, 0, 0, 0],\n",
        "    [1,   1,  1,  0,  1,  0, 0, 0, 1, 1, 1, 0],\n",
        "    [0,   0,  1,  0,  0,  0, 1, 0, 0, 0, 1, 0],\n",
        "    [0,   1,  0,  1,  1,  0, 1, 1, 1, 0, 1, 0],\n",
        "    [0,   0,  0,  0,  0,  0, 0, 0, 1, 0, 0, 0],\n",
        "    [1,   1,  1,  1,  1,  1, 0, 1, 0, 1, 1, 0],\n",
        "    [0,   0,  0,  0,  0,  0, 0, 1, 0, 0, 0, 0],\n",
        "    [0,   1,  1,  1,  1,  1, 1, 1, 1, 1, 1,'B'],\n",
        "]"
      ]
    },
    {
      "cell_type": "code",
      "execution_count": 4,
      "metadata": {
        "id": "iF0ylpHBLP9e"
      },
      "outputs": [],
      "source": [
        "import heapq\n",
        "\n",
        "# Define Manhattan distance heuristic\n",
        "def manhattan(a, b):\n",
        "    return abs(a[0] - b[0]) + abs(a[1] - b[1])"
      ]
    },
    {
      "cell_type": "code",
      "execution_count": 5,
      "metadata": {
        "id": "egOgH6qoLY0w"
      },
      "outputs": [],
      "source": [
        "# Get neighbors in 4 directions\n",
        "def get_neighbors(pos, maze):\n",
        "    neighbors = []\n",
        "    directions = [(-1,0), (1,0), (0,-1), (0,1)]  # up, down, left, right\n",
        "    rows, cols = len(maze), len(maze[0])\n",
        "    for dx, dy in directions:\n",
        "        nx, ny = pos[0] + dx, pos[1] + dy\n",
        "        if 0 <= nx < rows and 0 <= ny < cols and maze[nx][ny] != 1:\n",
        "            neighbors.append((nx, ny))\n",
        "    return neighbors"
      ]
    },
    {
      "cell_type": "markdown",
      "metadata": {
        "id": "w7Zr2NRPWT9N"
      },
      "source": [
        "# Processed Maze to replace A nd B with 0"
      ]
    },
    {
      "cell_type": "code",
      "execution_count": 10,
      "metadata": {
        "id": "Twnl-XSXWRHg"
      },
      "outputs": [
        {
          "data": {
            "text/plain": [
              "([[0, 0, 1, 0, 0, 0, 1, 0, 0, 1, 0, 0],\n",
              "  [0, 0, 1, 0, 1, 0, 1, 0, 1, 0, 0, 0],\n",
              "  [1, 0, 0, 0, 1, 0, 0, 0, 1, 1, 1, 0],\n",
              "  [0, 1, 1, 0, 0, 1, 1, 0, 0, 0, 1, 0],\n",
              "  [0, 0, 0, 0, 1, 0, 1, 1, 1, 0, 0, 0],\n",
              "  [1, 1, 1, 0, 1, 0, 0, 0, 1, 1, 1, 0],\n",
              "  [0, 0, 1, 0, 0, 0, 1, 0, 0, 0, 1, 0],\n",
              "  [0, 1, 0, 1, 1, 0, 1, 1, 1, 0, 1, 0],\n",
              "  [0, 0, 0, 0, 0, 0, 0, 0, 1, 0, 0, 0],\n",
              "  [1, 1, 1, 1, 1, 1, 0, 1, 0, 1, 1, 0],\n",
              "  [0, 0, 0, 0, 0, 0, 0, 1, 0, 0, 0, 0],\n",
              "  [0, 1, 1, 1, 1, 1, 1, 1, 1, 1, 1, 0]],\n",
              " (0, 0),\n",
              " (11, 11))"
            ]
          },
          "execution_count": 10,
          "metadata": {},
          "output_type": "execute_result"
        }
      ],
      "source": [
        "def processed_maze(maze):\n",
        "\n",
        "    # Convert maze to numeric values for processing\n",
        "    processed_maze = []\n",
        "    for row in maze:\n",
        "        new_row = []\n",
        "        for cell in row:\n",
        "            if cell == 'A':\n",
        "                start = (maze.index(row), row.index(cell))\n",
        "                new_row.append(0)\n",
        "            elif cell == 'B':\n",
        "                goal = (maze.index(row), row.index(cell))\n",
        "                new_row.append(0)\n",
        "            else:\n",
        "                new_row.append(cell)\n",
        "        processed_maze.append(new_row)\n",
        "    return processed_maze, start, goal\n",
        "processed_maze(maze5)"
      ]
    },
    {
      "cell_type": "code",
      "execution_count": null,
      "metadata": {
        "id": "My4eFHDFLcuq"
      },
      "outputs": [],
      "source": [
        "# Greedy Best-First Search\n",
        "\n",
        "def greedy_bfs(maze):\n",
        "\n",
        "    proc_maze, start, goal = processed_maze(maze)\n",
        "\n",
        "    visited = set()\n",
        "    came_from = {}\n",
        "\n",
        "    heap = []\n",
        "    heapq.heappush(heap, (manhattan(start, goal), start))\n",
        "\n",
        "    while heap:\n",
        "        _, current = heapq.heappop(heap)\n",
        "\n",
        "        if current == goal:\n",
        "            break\n",
        "\n",
        "        if current in visited:\n",
        "            continue\n",
        "        visited.add(current)\n",
        "\n",
        "        for neighbor in get_neighbors(current, maze):\n",
        "            if neighbor not in visited:\n",
        "                heapq.heappush(heap, (manhattan(neighbor, goal), neighbor))\n",
        "                if neighbor not in came_from:\n",
        "                    came_from[neighbor] = current\n",
        "\n",
        "    # Reconstruct path\n",
        "    path = []\n",
        "    curr = goal\n",
        "    while curr != start:\n",
        "        path.append(curr)\n",
        "        curr = came_from.get(curr)\n",
        "        if curr is None:\n",
        "            print(\"No path found.\")\n",
        "            return []\n",
        "    path.append(start)\n",
        "    path.reverse()\n",
        "    return path"
      ]
    },
    {
      "cell_type": "code",
      "execution_count": 8,
      "metadata": {
        "colab": {
          "base_uri": "https://localhost:8080/"
        },
        "id": "nGI0yUfcNTN2",
        "outputId": "dc9be4ec-8116-4198-d49c-7420c3059fdf"
      },
      "outputs": [
        {
          "name": "stdout",
          "output_type": "stream",
          "text": [
            "Path from A to B:\n",
            "[(0, 0), (0, 1), (1, 1), (2, 1), (2, 2), (2, 3), (3, 3), (4, 3), (5, 3), (6, 3), (6, 4), (6, 5), (5, 5), (5, 6), (5, 7), (6, 7), (6, 8), (6, 9), (7, 9), (8, 9), (8, 10), (8, 11), (9, 11), (10, 11), (11, 11)]\n"
          ]
        }
      ],
      "source": [
        "path = greedy_bfs(maze5)\n",
        "\n",
        "# Print path\n",
        "print(\"Path from A to B:\")\n",
        "print(path)\n"
      ]
    },
    {
      "cell_type": "code",
      "execution_count": 9,
      "metadata": {
        "id": "t5PGxPiuNVsC"
      },
      "outputs": [
        {
          "ename": "NameError",
          "evalue": "name 'start' is not defined",
          "output_type": "error",
          "traceback": [
            "\u001b[1;31m---------------------------------------------------------------------------\u001b[0m",
            "\u001b[1;31mNameError\u001b[0m                                 Traceback (most recent call last)",
            "Cell \u001b[1;32mIn[9], line 9\u001b[0m\n\u001b[0;32m      6\u001b[0m     \u001b[38;5;28;01mfor\u001b[39;00m row \u001b[38;5;129;01min\u001b[39;00m maze:\n\u001b[0;32m      7\u001b[0m         \u001b[38;5;28mprint\u001b[39m(\u001b[38;5;124m'\u001b[39m\u001b[38;5;124m \u001b[39m\u001b[38;5;124m'\u001b[39m\u001b[38;5;241m.\u001b[39mjoin(\u001b[38;5;28mstr\u001b[39m(cell) \u001b[38;5;28;01mfor\u001b[39;00m cell \u001b[38;5;129;01min\u001b[39;00m row))\n\u001b[1;32m----> 9\u001b[0m \u001b[43mvisualize_path\u001b[49m\u001b[43m(\u001b[49m\u001b[43mpath\u001b[49m\u001b[43m,\u001b[49m\u001b[43m \u001b[49m\u001b[43mmaze5\u001b[49m\u001b[43m)\u001b[49m\n",
            "Cell \u001b[1;32mIn[9], line 3\u001b[0m, in \u001b[0;36mvisualize_path\u001b[1;34m(path, maze)\u001b[0m\n\u001b[0;32m      1\u001b[0m \u001b[38;5;28;01mdef\u001b[39;00m \u001b[38;5;21mvisualize_path\u001b[39m(path, maze):\n\u001b[0;32m      2\u001b[0m     \u001b[38;5;28;01mfor\u001b[39;00m r, c \u001b[38;5;129;01min\u001b[39;00m path:\n\u001b[1;32m----> 3\u001b[0m         \u001b[38;5;28;01mif\u001b[39;00m (r, c) \u001b[38;5;241m!=\u001b[39m \u001b[43mstart\u001b[49m \u001b[38;5;129;01mand\u001b[39;00m (r, c) \u001b[38;5;241m!=\u001b[39m goal:\n\u001b[0;32m      4\u001b[0m             maze[r][c] \u001b[38;5;241m=\u001b[39m \u001b[38;5;124m'\u001b[39m\u001b[38;5;124m*\u001b[39m\u001b[38;5;124m'\u001b[39m\n\u001b[0;32m      6\u001b[0m     \u001b[38;5;28;01mfor\u001b[39;00m row \u001b[38;5;129;01min\u001b[39;00m maze:\n",
            "\u001b[1;31mNameError\u001b[0m: name 'start' is not defined"
          ]
        }
      ],
      "source": [
        "def visualize_path(path, maze):\n",
        "    for r, c in path:\n",
        "        if (r, c) != start and (r, c) != goal:\n",
        "            maze[r][c] = '*'\n",
        "\n",
        "    for row in maze:\n",
        "        print(' '.join(str(cell) for cell in row))\n",
        "\n",
        "visualize_path(path, maze5)\n"
      ]
    },
    {
      "cell_type": "code",
      "execution_count": null,
      "metadata": {
        "colab": {
          "base_uri": "https://localhost:8080/"
        },
        "id": "AYepKXZaVDCO",
        "outputId": "43c47ca1-91bd-49a5-b3ca-1d257cd268cd"
      },
      "outputs": [
        {
          "data": {
            "text/plain": [
              "[[0, 0, 0, 0, 0],\n",
              " [1, 1, 0, 1, 0],\n",
              " [0, 'A', 0, 'B', 0],\n",
              " [0, 1, 1, 1, 0],\n",
              " [0, 0, 0, 0, 0]]"
            ]
          },
          "execution_count": 50,
          "metadata": {},
          "output_type": "execute_result"
        }
      ],
      "source": [
        "maze5"
      ]
    },
    {
      "cell_type": "code",
      "execution_count": null,
      "metadata": {
        "colab": {
          "base_uri": "https://localhost:8080/",
          "height": 144
        },
        "id": "a2VqcArzXSK1",
        "outputId": "91aadfd1-9f23-44e9-9b61-353f5b32a5f9"
      },
      "outputs": [
        {
          "ename": "NameError",
          "evalue": "name 'visualize_path' is not defined",
          "output_type": "error",
          "traceback": [
            "\u001b[0;31m---------------------------------------------------------------------------\u001b[0m",
            "\u001b[0;31mNameError\u001b[0m                                 Traceback (most recent call last)",
            "\u001b[0;32m/tmp/ipython-input-2385681516.py\u001b[0m in \u001b[0;36m<cell line: 0>\u001b[0;34m()\u001b[0m\n\u001b[0;32m----> 1\u001b[0;31m \u001b[0mvisualize_path\u001b[0m\u001b[0;34m(\u001b[0m\u001b[0mpath\u001b[0m\u001b[0;34m,\u001b[0m \u001b[0mmaze5\u001b[0m\u001b[0;34m)\u001b[0m\u001b[0;34m\u001b[0m\u001b[0;34m\u001b[0m\u001b[0m\n\u001b[0m",
            "\u001b[0;31mNameError\u001b[0m: name 'visualize_path' is not defined"
          ]
        }
      ],
      "source": [
        "visualize_path(path, maze5)"
      ]
    },
    {
      "cell_type": "markdown",
      "metadata": {
        "id": "I3JxjF86Q4nP"
      },
      "source": [
        "# Visualizing the manhattan distance in the maze\n"
      ]
    },
    {
      "cell_type": "code",
      "execution_count": null,
      "metadata": {
        "id": "5R_16xekQAZ7"
      },
      "outputs": [],
      "source": [
        "def manhattan(p1, p2):\n",
        "    return abs(p1[0] - p2[0]) + abs(p1[1] - p2[1])\n",
        "\n",
        "# Find start (A) and goal (B)\n",
        "def find_positions(maze):\n",
        "    start = goal = None\n",
        "    for i in range(len(maze)):\n",
        "        for j in range(len(maze[0])):\n",
        "            if maze[i][j] == 'A':\n",
        "                start = (i, j)\n",
        "            elif maze[i][j] == 'B':\n",
        "                goal = (i, j)\n",
        "    return start, goal\n",
        "\n",
        "def visualize_manhattan(maze):\n",
        "    start, goal = find_positions(maze)\n",
        "    rows, cols = len(maze), len(maze[0])\n",
        "\n",
        "    dist_matrix = []\n",
        "    for i in range(rows):\n",
        "        row = []\n",
        "        for j in range(cols):\n",
        "            if maze[i][j] == 1:   # Wall\n",
        "                row.append(\"█\")\n",
        "            elif maze[i][j] == 'A':\n",
        "                row.append('A')\n",
        "            elif maze[i][j] == 'B':\n",
        "                row.append('B')\n",
        "            else:\n",
        "                row.append(manhattan((i, j), goal))\n",
        "        dist_matrix.append(row)\n",
        "\n",
        "    return dist_matrix"
      ]
    },
    {
      "cell_type": "code",
      "execution_count": null,
      "metadata": {
        "colab": {
          "base_uri": "https://localhost:8080/"
        },
        "id": "xipZmZ2URGQs",
        "outputId": "e3adef7d-94bf-4ada-829d-d816c2458c5b"
      },
      "outputs": [
        {
          "data": {
            "text/plain": [
              "[['A', 21, '█', 19, 18, 17, '█', 15, 14, '█', 12, 11],\n",
              " [21, 20, '█', 18, '█', 16, '█', 14, '█', 12, 11, 10],\n",
              " ['█', 19, 18, 17, '█', 15, 14, 13, '█', '█', '█', 9],\n",
              " [19, '█', '█', 16, 15, '█', '█', 12, 11, 10, '█', 8],\n",
              " [18, 17, 16, 15, '█', 13, '█', '█', '█', 9, 8, 7],\n",
              " ['█', '█', '█', 14, '█', 12, 11, 10, '█', '█', '█', 6],\n",
              " [16, 15, '█', 13, 12, 11, '█', 9, 8, 7, '█', 5],\n",
              " [15, '█', 13, '█', '█', 10, '█', '█', '█', 6, '█', 4],\n",
              " [14, 13, 12, 11, 10, 9, 8, 7, '█', 5, 4, 3],\n",
              " ['█', '█', '█', '█', '█', '█', 7, '█', 5, '█', '█', 2],\n",
              " [12, 11, 10, 9, 8, 7, 6, '█', 4, 3, 2, 1],\n",
              " [11, '█', '█', '█', '█', '█', '█', '█', '█', '█', '█', 'B']]"
            ]
          },
          "execution_count": 8,
          "metadata": {},
          "output_type": "execute_result"
        }
      ],
      "source": [
        "visualize_manhattan(maze5)"
      ]
    },
    {
      "cell_type": "code",
      "execution_count": null,
      "metadata": {
        "id": "s6CVzMIFRu0B"
      },
      "outputs": [],
      "source": [
        "# Pretty print function\n",
        "def print_matrix(matrix):\n",
        "    for row in matrix:\n",
        "        row_str = \"\"\n",
        "        for val in row:\n",
        "            if val == \"█\":\n",
        "                row_str += \" █ \"   # Wall\n",
        "            elif val == 'A' or val == 'B':\n",
        "                row_str += f\" {val} \"\n",
        "            else:\n",
        "                row_str += f\"{val:2d} \"  # Align numbers\n",
        "        print(row_str)\n",
        "    print()  # Extra space after the grid"
      ]
    },
    {
      "cell_type": "code",
      "execution_count": null,
      "metadata": {
        "colab": {
          "base_uri": "https://localhost:8080/"
        },
        "id": "Tx0pjCkGRwe9",
        "outputId": "75563bbf-4a42-468a-edcb-c1551c31611a"
      },
      "outputs": [
        {
          "name": "stdout",
          "output_type": "stream",
          "text": [
            " A 21  █ 19 18 17  █ 15 14  █ 12 11 \n",
            "21 20  █ 18  █ 16  █ 14  █ 12 11 10 \n",
            " █ 19 18 17  █ 15 14 13  █  █  █  9 \n",
            "19  █  █ 16 15  █  █ 12 11 10  █  8 \n",
            "18 17 16 15  █ 13  █  █  █  9  8  7 \n",
            " █  █  █ 14  █ 12 11 10  █  █  █  6 \n",
            "16 15  █ 13 12 11  █  9  8  7  █  5 \n",
            "15  █ 13  █  █ 10  █  █  █  6  █  4 \n",
            "14 13 12 11 10  9  8  7  █  5  4  3 \n",
            " █  █  █  █  █  █  7  █  5  █  █  2 \n",
            "12 11 10  9  8  7  6  █  4  3  2  1 \n",
            "11  █  █  █  █  █  █  █  █  █  █  B \n",
            "\n"
          ]
        }
      ],
      "source": [
        "print_matrix(visualize_manhattan(maze5))"
      ]
    },
    {
      "cell_type": "markdown",
      "metadata": {
        "id": "McQ6LgIeSawX"
      },
      "source": [
        "# Examples of different mazes\n"
      ]
    },
    {
      "cell_type": "code",
      "execution_count": null,
      "metadata": {
        "id": "bQmPpMNmSaFC"
      },
      "outputs": [],
      "source": [
        "maze5 = [\n",
        "    ['A', 0,  1,  0,  0,  0, 1, 0, 0, 1, 0, 0],\n",
        "    [0,   0,  1,  0,  1,  0, 1, 0, 1, 0, 0, 0],\n",
        "    [1,   0,  0,  0,  1,  0, 0, 0, 1, 1, 1, 0],\n",
        "    [0,   1,  1,  0,  0,  1, 1, 0, 0, 0, 1, 0],\n",
        "    [0,   0,  0,  0,  1,  0, 1, 1, 1, 0, 0, 0],\n",
        "    [1,   1,  1,  0,  1,  0, 0, 0, 1, 1, 1, 0],\n",
        "    [0,   0,  1,  0,  0,  0, 1, 0, 0, 0, 1, 0],\n",
        "    [0,   1,  0,  1,  1,  0, 1, 1, 1, 0, 1, 0],\n",
        "    [0,   0,  0,  0,  0,  0, 0, 0, 1, 0, 0, 0],\n",
        "    [1,   1,  1,  1,  1,  1, 0, 1, 0, 1, 1, 0],\n",
        "    [0,   0,  0,  0,  0,  0, 0, 1, 0, 0, 0, 0],\n",
        "    [0,   1,  1,  1,  1,  1, 1, 1, 1, 1, 1,'B'],\n",
        "]"
      ]
    },
    {
      "cell_type": "code",
      "execution_count": null,
      "metadata": {
        "id": "Q4BAKiKTSkcz"
      },
      "outputs": [],
      "source": [
        "maze4 = [\n",
        "    ['A', 0,  1,  0,  0,  0, 1, 0, 0, 0],\n",
        "    [0,   0,  1,  0,  1,  0, 1, 0, 1, 0],\n",
        "    [1,   0,  0,  0,  1,  0, 0, 0, 1, 0],\n",
        "    [0,   1,  1,  0,  0,  1, 1, 0, 0, 0],\n",
        "    [0,   0,  0,  0,  1,  0, 1, 1, 1, 0],\n",
        "    [1,   1,  1,  0,  1,  0, 0, 0, 1, 0],\n",
        "    [0,   0,  1,  0,  0,  0, 1, 0, 0, 0],\n",
        "    [0,   1,  0,  1,  1,  0, 1, 1, 1, 0],\n",
        "    [0,   0,  0,  0,  0,  0, 0, 0, 1, 0],\n",
        "    [1,   1,  1,  1,  1,  1, 0, 1, 0,'B'],\n",
        "]"
      ]
    },
    {
      "cell_type": "code",
      "execution_count": null,
      "metadata": {
        "id": "DX6CdpGMSoWN"
      },
      "outputs": [],
      "source": [
        "maze3 = [\n",
        "    ['A', 0,  1,  0, 0, 0, 0, 0],\n",
        "    [0,   0,  1,  0, 1, 1, 1, 0],\n",
        "    [0,   1,  1,  0, 0, 0, 1, 0],\n",
        "    [0,   0,  0,  0, 1, 0, 1, 0],\n",
        "    [1,   1,  1,  0, 1, 0, 0, 0],\n",
        "    [0,   0,  0,  0, 0, 1, 1, 0],\n",
        "    [0,   1,  1,  1, 0, 0, 0, 0],\n",
        "    [0,   0,  0,  0, 0, 1, 1,'B'],\n",
        "]"
      ]
    },
    {
      "cell_type": "code",
      "execution_count": null,
      "metadata": {
        "id": "zdI7tCCjSqii"
      },
      "outputs": [],
      "source": [
        "maze2 = [\n",
        "    ['A', 0,   1,  0, 0, 0],\n",
        "    [1,   0,   1,  0, 1, 0],\n",
        "    [0,   0,   0,  0, 1, 0],\n",
        "    [0,   1,   1,  1, 1, 0],\n",
        "    [0,   0,   0,  0, 0, 0],\n",
        "    [0,   1,   1,  1, 1,'B'],\n",
        "]"
      ]
    },
    {
      "cell_type": "code",
      "execution_count": null,
      "metadata": {
        "id": "xF5OWgA1SuG3"
      },
      "outputs": [],
      "source": [
        "maze1 = [\n",
        "    ['A', 0, 0, 0, 'B'],\n",
        "    [1,   1, 1, 1,  0],\n",
        "    [0,   0, 0, 0,  0],\n",
        "    [0,   1, 1, 1,  0],\n",
        "    [0,   0, 0, 0,  0],\n",
        "]"
      ]
    },
    {
      "cell_type": "code",
      "execution_count": 14,
      "metadata": {},
      "outputs": [
        {
          "name": "stdout",
          "output_type": "stream",
          "text": [
            "Path found:\n",
            "[(0, 0), (0, 1), (1, 1), (2, 1), (2, 2), (2, 3), (3, 3), (4, 3), (5, 3), (6, 3), (6, 4), (6, 5), (5, 5), (5, 6), (5, 7), (6, 7), (6, 8), (6, 9), (7, 9), (8, 9), (8, 10), (8, 11), (9, 11), (10, 11), (11, 11)]\n"
          ]
        }
      ],
      "source": [
        "import heapq\n",
        "\n",
        "# Manhattan distance heuristic\n",
        "def manhattan_distance(a, b):\n",
        "    return abs(a[0] - b[0]) + abs(a[1] - b[1])\n",
        "\n",
        "# Greedy Best-First Search\n",
        "def greedy_bfs(maze):\n",
        "    rows, cols = len(maze), len(maze[0])\n",
        "    \n",
        "    # Find start (A) and goal (B)\n",
        "    start, goal = None, None\n",
        "    for i in range(rows):\n",
        "        for j in range(cols):\n",
        "            if maze[i][j] == 'A':\n",
        "                start = (i, j)\n",
        "            elif maze[i][j] == 'B':\n",
        "                goal = (i, j)\n",
        "\n",
        "    if not start or not goal:\n",
        "        print(\"Maze must contain 'A' (start) and 'B' (goal).\")\n",
        "        return None\n",
        "    \n",
        "    # Priority queue (min-heap)\n",
        "    pq = []\n",
        "    heapq.heappush(pq, (0, start))  \n",
        "    \n",
        "    # For backtracking path\n",
        "    came_from = {start: None}\n",
        "    visited = set()\n",
        "    \n",
        "    # Directions: up, down, left, right\n",
        "    directions = [(-1,0), (1,0), (0,-1), (0,1)]\n",
        "    \n",
        "    while pq:\n",
        "        _, current = heapq.heappop(pq)\n",
        "        \n",
        "        if current in visited:\n",
        "            continue\n",
        "        visited.add(current)\n",
        "        \n",
        "        if current == goal:\n",
        "            # Reconstruct path\n",
        "            path = []\n",
        "            while current:\n",
        "                path.append(current)\n",
        "                current = came_from[current]\n",
        "            path.reverse()\n",
        "            return path\n",
        "        \n",
        "        # Explore neighbors\n",
        "        for d in directions:\n",
        "            nr, nc = current[0] + d[0], current[1] + d[1]\n",
        "            if 0 <= nr < rows and 0 <= nc < cols and maze[nr][nc] != 1:\n",
        "                neighbor = (nr, nc)\n",
        "                if neighbor not in visited:\n",
        "                    priority = manhattan_distance(neighbor, goal)\n",
        "                    heapq.heappush(pq, (priority, neighbor))\n",
        "                    if neighbor not in came_from:\n",
        "                        came_from[neighbor] = current\n",
        "    \n",
        "    return None  # No path found\n",
        "\n",
        "\n",
        "# Example maze\n",
        "maze5 = [\n",
        "    ['A', 0,  1,  0,  0,  0, 1, 0, 0, 1, 0, 0],\n",
        "    [0,   0,  1,  0,  1,  0, 1, 0, 1, 0, 0, 0],\n",
        "    [1,   0,  0,  0,  1,  0, 0, 0, 1, 1, 1, 0],\n",
        "    [0,   1,  1,  0,  0,  1, 1, 0, 0, 0, 1, 0],\n",
        "    [0,   0,  0,  0,  1,  0, 1, 1, 1, 0, 0, 0],\n",
        "    [1,   1,  1,  0,  1,  0, 0, 0, 1, 1, 1, 0],\n",
        "    [0,   0,  1,  0,  0,  0, 1, 0, 0, 0, 1, 0],\n",
        "    [0,   1,  0,  1,  1,  0, 1, 1, 1, 0, 1, 0],\n",
        "    [0,   0,  0,  0,  0,  0, 0, 0, 1, 0, 0, 0],\n",
        "    [1,   1,  1,  1,  1,  1, 0, 1, 0, 1, 1, 0],\n",
        "    [0,   0,  0,  0,  0,  0, 0, 1, 0, 0, 0, 0],\n",
        "    [0,   1,  1,  1,  1,  1, 1, 1, 1, 1, 1,'B'],\n",
        "]\n",
        "\n",
        "\n",
        "path = greedy_bfs(maze5)\n",
        "print(\"Path found:\" if path else \"No path found\")\n",
        "print(path)\n"
      ]
    },
    {
      "cell_type": "markdown",
      "metadata": {
        "id": "yLt79OkwXW0O"
      },
      "source": [
        "# OOps"
      ]
    }
  ],
  "metadata": {
    "colab": {
      "authorship_tag": "ABX9TyMn5f7XxuaQFCzpNxYoz7ny",
      "include_colab_link": true,
      "provenance": []
    },
    "kernelspec": {
      "display_name": "Python 3",
      "name": "python3"
    },
    "language_info": {
      "codemirror_mode": {
        "name": "ipython",
        "version": 3
      },
      "file_extension": ".py",
      "mimetype": "text/x-python",
      "name": "python",
      "nbconvert_exporter": "python",
      "pygments_lexer": "ipython3",
      "version": "3.12.10"
    }
  },
  "nbformat": 4,
  "nbformat_minor": 0
}
